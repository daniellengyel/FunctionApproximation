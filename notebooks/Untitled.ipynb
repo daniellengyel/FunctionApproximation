{
 "cells": [
  {
   "cell_type": "code",
   "execution_count": 1,
   "metadata": {},
   "outputs": [],
   "source": [
    "import sys, os\n",
    "import ujson as json\n",
    "from pathlib import Path \n",
    "HOME = \"/rds/general/user/dl2119/home/ICLR_Interp\" # Path(os.environ[\"PATH_INTP_FOLDER\"])\n",
    "os.environ[\"PATH_INTP_FOLDER\"] = HOME\n",
    "HOME = Path(HOME)\n",
    "sys.path.append(str(HOME))\n",
    "sys.path.append(str(HOME / \"DataGeneration\"))\n",
    "sys.path.append(str(HOME / \"ModelGeneration\"))\n",
    "\n",
    "from save_load_data import load_fast\n",
    "from save_load_model import save_nn\n",
    "from nn_train import train\n",
    "\n",
    "import torch\n",
    "import torchvision\n",
    "import torch.optim as optim\n",
    "from torch import Tensor\n",
    "\n",
    "import torch.nn as nn\n",
    "import torch.nn.functional as F\n",
    "from torch.nn import Module\n",
    "\n",
    "from torch.utils.data import DataLoader\n",
    "\n",
    "import matplotlib.pyplot as plt \n",
    "\n",
    "from Functions import Schwefel\n",
    "import numpy as np\n",
    "\n",
    "%load_ext autoreload\n",
    "%autoreload 2"
   ]
  },
  {
   "cell_type": "markdown",
   "metadata": {},
   "source": [
    "TODO : \n",
    "Check the models we have for anomalities and things we can get rid of. -- Seems like everything is ok. just how it is. Maybe run some stuff longer. \n",
    "\n",
    "Copy both models and data into a new \"old\" folder\n",
    "\n",
    "For fast loading, add last loss to file name\n",
    "Run all models again on the new data. Adapt the array index for large datasets and so that i split some of the models for higher Ns. Maybe do this manually. \n",
    "\n",
    "Code up some test functions while this is running. See how long it takes to get different RBFs and stuff. Compute losss on testsets and stuff. \n",
    "\n",
    "Need to still do visualizations... \n",
    "\n",
    "\n",
    "\n"
   ]
  },
  {
   "cell_type": "code",
   "execution_count": 2,
   "metadata": {},
   "outputs": [],
   "source": [
    "class SimpleNet(Module):\n",
    "    def __init__(self, inp_dim, out_dim, width, num_layers, dropout_p=0, activation=None):\n",
    "        super(SimpleNet, self).__init__()\n",
    "\n",
    "        self.dropout_p = dropout_p\n",
    "        \n",
    "        if activation is None or activation == \"relu\":\n",
    "            self.activation = F.relu\n",
    "        if activation == \"sigmoid\":\n",
    "            self.activation = F.hardsigmoid\n",
    "        if activation == \"tanh\":\n",
    "            self.activation = F.hardtanh\n",
    "\n",
    "        self.fc_input = nn.Linear(inp_dim, width)\n",
    "        self.layers = nn.ModuleList([nn.Linear(width, width) for _ in range(num_layers - 1)])\n",
    "        self.fc_final = nn.Linear(width, out_dim)\n",
    "\n",
    "    def forward(self, x):\n",
    "        x = self.activation(self.fc_input(x))\n",
    "        for i in range(len(self.layers)):\n",
    "            x = self.activation(self.layers[i](x))\n",
    "        x = self.fc_final(x)\n",
    "        return x"
   ]
  },
  {
   "cell_type": "code",
   "execution_count": 3,
   "metadata": {},
   "outputs": [],
   "source": [
    "def load_model(path):\n",
    "    path = str(path)\n",
    "    model_config = path.split(\"/\")[-2]\n",
    "    depth = model_config.split(\"_\")[2]\n",
    "    width = model_config.split(\"_\")[4]\n",
    "    dim = (path.split(\"/\")[-5]).split(\"_\")[1]\n",
    "    \n",
    "    depth = int(depth)\n",
    "    width = int(width)\n",
    "    dim = int(dim)\n",
    "    \n",
    "    model = SimpleNet(dim, 1, width, depth)\n",
    "    model.load_state_dict(torch.load(path))\n",
    "    model.eval()\n",
    "    return model "
   ]
  },
  {
   "cell_type": "code",
   "execution_count": 4,
   "metadata": {},
   "outputs": [],
   "source": [
    "import pandas as pd"
   ]
  },
  {
   "cell_type": "code",
   "execution_count": 93,
   "metadata": {},
   "outputs": [],
   "source": [
    "data_df = pd.DataFrame(res_data)"
   ]
  },
  {
   "cell_type": "code",
   "execution_count": 99,
   "metadata": {},
   "outputs": [
    {
     "name": "stdout",
     "output_type": "stream",
     "text": [
      "Schwefel\n",
      "Michi\n",
      "Ackley\n",
      "Rosenbrock\n"
     ]
    }
   ],
   "source": [
    "data_dir_path = HOME / \"Dataset\"\n",
    "\n",
    "res_data = []\n",
    "\n",
    "\n",
    "for func_name in os.listdir(data_dir_path):\n",
    "    print(func_name)\n",
    "    for dim in os.listdir(data_dir_path / func_name):\n",
    "        for N in os.listdir(data_dir_path / func_name / dim):\n",
    "            for data_gen_method in os.listdir(data_dir_path / func_name / dim / N):    \n",
    "                curr_dir = {\"func_name\": func_name, \"dim\": dim.split(\"_\")[1], \n",
    "                            \"N\": N.split(\"_\")[1], \"data_type\": data_gen_method}\n",
    "    \n",
    "                res_data.append(curr_dir)"
   ]
  },
  {
   "cell_type": "code",
   "execution_count": 17,
   "metadata": {},
   "outputs": [
    {
     "name": "stdout",
     "output_type": "stream",
     "text": [
      "Schwefel\n",
      "dim dim_8\n",
      "dim dim_6\n",
      "dim dim_1\n",
      "dim dim_4\n",
      "dim dim_2\n",
      "dim dim_10\n",
      "dim dim_3\n",
      "Michi\n",
      "dim dim_8\n",
      "dim dim_6\n",
      "dim dim_1\n",
      "dim dim_4\n",
      "dim dim_2\n",
      "dim dim_10\n",
      "dim dim_3\n",
      "Ackley\n",
      "dim dim_8\n",
      "dim dim_6\n",
      "dim dim_1\n",
      "dim dim_4\n",
      "dim dim_2\n",
      "dim dim_10\n",
      "dim dim_3\n",
      "Rosenbrock\n",
      "dim dim_8\n",
      "dim dim_6\n",
      "dim dim_1\n",
      "dim dim_4\n",
      "dim dim_2\n",
      "dim dim_10\n",
      "dim dim_3\n"
     ]
    }
   ],
   "source": [
    "model_dir_path = HOME / \"ModelsOld\"\n",
    "\n",
    "res_models = []\n",
    "\n",
    "criterion = torch.nn.MSELoss(reduction=\"mean\")\n",
    "\n",
    "\n",
    "for func_name in os.listdir(model_dir_path):\n",
    "    print(func_name)\n",
    "    for dim in os.listdir(model_dir_path / func_name):\n",
    "        print(\"dim\", dim)\n",
    "        for N in os.listdir(model_dir_path / func_name / dim):\n",
    "            for data_gen_method in os.listdir(model_dir_path / func_name / dim / N):\n",
    "                for nn_type in os.listdir(model_dir_path / func_name / dim / N / data_gen_method):\n",
    "                    \n",
    "                    curr_dir = {\"func_name\": func_name, \"dim\": dim.split(\"_\")[1], \n",
    "                                \"N\": N.split(\"_\")[1], \"data_type\": data_gen_method, \"nn_type\": nn_type} #, \"loss\": loss_hist[-1]}\n",
    "                    res_models.append(curr_dir)\n",
    "    "
   ]
  },
  {
   "cell_type": "code",
   "execution_count": 13,
   "metadata": {},
   "outputs": [],
   "source": [
    "\n",
    "\n",
    "funcs = [\"Schwefel\", \"Ackley\", \"Michi\", \"Rosenbrock\"]\n",
    "dims = [1, 2, 3, 4, 6, 8, 10]\n",
    "Ns = [1e2, 1e3, 1e4, 1e5, 1e6]\n",
    "data_gen_methods = [\"UniformRandom\", \"UniformGrid\", \"HessSampling\"]\n",
    "\n",
    "def gen_nn_tags():\n",
    "    batch_sizes = [16, 64, 256]\n",
    "\n",
    "    depth_widths = [{'depth': 4, 'width': 4},\n",
    "                    {'depth': 4, 'width': 32},\n",
    "                    {'depth': 4, 'width': 128},\n",
    "                    {'depth': 8, 'width': 32},\n",
    "                    {'depth': 8, 'width': 128},\n",
    "                    {'depth': 16, 'width': 32},\n",
    "                    {'depth': 16, 'width': 128}]\n",
    "\n",
    "\n",
    "    optimizers = {\"Adam\": {\"lr\": [0.001, 0.0001, 1e-5], \"momentum\": [0.]}, \"SGD\": {\"lr\": [1e-2, 1e-3, 1e-4, 1e-5], \"momentum\": [0., 0.9]}}\n",
    "\n",
    "    weight_decays = [0, 1e-3, 1]\n",
    "    res = []\n",
    "    for depth_width in depth_widths:\n",
    "        depth = depth_width[\"depth\"]\n",
    "        width = depth_width[\"width\"]\n",
    "        for optimizer in optimizers:\n",
    "            for batch_size in batch_sizes:\n",
    "                for lr in optimizers[optimizer][\"lr\"]:\n",
    "                    for momentum in optimizers[optimizer][\"momentum\"]:\n",
    "                        for weight_decay in weight_decays:\n",
    "                            \n",
    "                            if optimizer == \"SGD\":\n",
    "                                optimizer_str = optimizer + \"_{}\".format(momentum)\n",
    "                            else:\n",
    "                                optimizer_str = optimizer\n",
    "\n",
    "                            dir_name = \"nn_depth_{}_width_{}_opt_{}_lr_{}_bs_{}_l2p_{}\".format(depth, width, optimizer_str, lr, batch_size, weight_decay)\n",
    "                            res.append(dir_name)\n",
    "                            \n",
    "    return res\n",
    "desired_models = []\n",
    "nn_tags = gen_nn_tags()\n",
    "for func_name in funcs:\n",
    "        for dim in dims:\n",
    "            for N in Ns:\n",
    "                for data_gen_method in data_gen_methods:\n",
    "                    curr_dirs = [{\"func_name\": func_name, \"dim\": dim,\n",
    "                                \"N\": N, \"data_type\": data_gen_method, \"nn_type\": nn_type} for nn_type in nn_tags] #, \"loss\": loss_hist[-1]}\n",
    "                    desired_models += curr_dirs"
   ]
  },
  {
   "cell_type": "code",
   "execution_count": 14,
   "metadata": {},
   "outputs": [
    {
     "data": {
      "text/plain": [
       "291060"
      ]
     },
     "execution_count": 14,
     "metadata": {},
     "output_type": "execute_result"
    }
   ],
   "source": [
    "len(desired_models)"
   ]
  },
  {
   "cell_type": "code",
   "execution_count": 18,
   "metadata": {},
   "outputs": [
    {
     "data": {
      "text/plain": [
       "219264"
      ]
     },
     "execution_count": 18,
     "metadata": {},
     "output_type": "execute_result"
    }
   ],
   "source": [
    "len(res_models)"
   ]
  },
  {
   "cell_type": "code",
   "execution_count": 41,
   "metadata": {},
   "outputs": [],
   "source": [
    "ls = []\n",
    "bad_ms = []\n",
    "for r in res_models:\n",
    "    ls.append(r['loss'])\n",
    "    if ls[-1] > 5:\n",
    "        bad_ms.append(r)"
   ]
  },
  {
   "cell_type": "code",
   "execution_count": 44,
   "metadata": {},
   "outputs": [
    {
     "data": {
      "text/plain": [
       "{'func_name': 'Schwefel',\n",
       " 'dim': '8',\n",
       " 'N': '100',\n",
       " 'data_type': 'UniformGrid',\n",
       " 'nn_type': 'nn_depth_16_width_128_opt_SGD_0.0_lr_1e-05_bs_16_l2p_0.001',\n",
       " 'loss': 5.559410095214844}"
      ]
     },
     "execution_count": 44,
     "metadata": {},
     "output_type": "execute_result"
    }
   ],
   "source": [
    "\n",
    "    batch_sizes = [16, 64, 256]\n",
    "\n",
    "    depth_widths = [{'depth': 4, 'width': 4},\n",
    "                    {'depth': 4, 'width': 32},\n",
    "                    {'depth': 4, 'width': 128},\n",
    "                    {'depth': 8, 'width': 32},\n",
    "                    {'depth': 8, 'width': 128},\n",
    "                    {'depth': 16, 'width': 32},\n",
    "                    {'depth': 16, 'width': 128}]\n",
    "\n",
    "\n",
    "    optimizers = {\"Adam\": {\"lr\": [0.001, 0.0001, 1e-5], \"momentum\": [0.]}, \"SGD\": {\"lr\": [1e-2, 1e-3, 1e-4, 1e-5], \"momentum\": [0., 0.9]}}\n",
    "\n",
    "    weight_decays = [0, 1e-3, 1]"
   ]
  },
  {
   "cell_type": "code",
   "execution_count": 103,
   "metadata": {},
   "outputs": [
    {
     "data": {
      "text/plain": [
       "231"
      ]
     },
     "execution_count": 103,
     "metadata": {},
     "output_type": "execute_result"
    }
   ],
   "source": [
    "3 * 7 * (3 + 8) # * 3"
   ]
  },
  {
   "cell_type": "code",
   "execution_count": 42,
   "metadata": {},
   "outputs": [
    {
     "data": {
      "text/plain": [
       "(array([2.9724e+04, 2.0589e+04, 2.4302e+04, 2.0719e+04, 1.7447e+04,\n",
       "        1.2922e+04, 1.4701e+04, 6.7280e+03, 6.1770e+03, 7.0040e+03,\n",
       "        5.4450e+03, 4.4920e+03, 4.7080e+03, 5.1960e+03, 5.8250e+03,\n",
       "        4.2580e+03, 3.9560e+03, 4.7940e+03, 4.1810e+03, 2.7640e+03,\n",
       "        2.4080e+03, 1.9830e+03, 1.1300e+03, 8.0700e+02, 4.6600e+02,\n",
       "        1.1600e+02, 5.0000e+01, 2.4000e+01, 1.3000e+01, 4.0000e+00]),\n",
       " array([1.82768199e-05, 8.27237186e-01, 1.65445609e+00, 2.48167500e+00,\n",
       "        3.30889391e+00, 4.13611282e+00, 4.96333173e+00, 5.79055064e+00,\n",
       "        6.61776955e+00, 7.44498846e+00, 8.27220736e+00, 9.09942627e+00,\n",
       "        9.92664518e+00, 1.07538641e+01, 1.15810830e+01, 1.24083019e+01,\n",
       "        1.32355208e+01, 1.40627397e+01, 1.48899586e+01, 1.57171775e+01,\n",
       "        1.65443965e+01, 1.73716154e+01, 1.81988343e+01, 1.90260532e+01,\n",
       "        1.98532721e+01, 2.06804910e+01, 2.15077099e+01, 2.23349288e+01,\n",
       "        2.31621477e+01, 2.39893666e+01, 2.48165855e+01]),\n",
       " <BarContainer object of 30 artists>)"
      ]
     },
     "execution_count": 42,
     "metadata": {},
     "output_type": "execute_result"
    },
    {
     "data": {
      "image/png": "[encoded data removed]",
      "text/plain": [
       "<Figure size 640x480 with 1 Axes>"
      ]
     },
     "metadata": {},
     "output_type": "display_data"
    }
   ],
   "source": [
    "plt.hist(ls, bins=30)"
   ]
  },
  {
   "cell_type": "code",
   "execution_count": 15,
   "metadata": {},
   "outputs": [],
   "source": [
    "from collections import defaultdict\n"
   ]
  },
  {
   "cell_type": "code",
   "execution_count": 22,
   "metadata": {},
   "outputs": [],
   "source": [
    "\n",
    "def make_tree(d_arr):\n",
    "    res = defaultdict(lambda: defaultdict(lambda: defaultdict(lambda: [])))\n",
    "    for r in d_arr:\n",
    "        res[r[\"func_name\"]][r[\"dim\"]][r[\"N\"]].append(r[\"data_type\"])\n",
    "    return res \n",
    "\n",
    "t = make_tree(res_data)"
   ]
  },
  {
   "cell_type": "code",
   "execution_count": 24,
   "metadata": {},
   "outputs": [
    {
     "name": "stdout",
     "output_type": "stream",
     "text": [
      "f Michi dim 8\n",
      "defaultdict(<function make_tree.<locals>.<lambda>.<locals>.<lambda>.<locals>.<lambda> at 0x145c1b3d91b0>, {'10000': ['UniformGrid', 'UniformRandom', 'HessSampling'], '1000': ['UniformGrid', 'UniformRandom', 'HessSampling'], '100': ['UniformGrid', 'UniformRandom', 'HessSampling'], '100000': ['UniformGrid', 'UniformRandom', 'HessSampling']})\n",
      "\n",
      "f Michi dim 6\n",
      "defaultdict(<function make_tree.<locals>.<lambda>.<locals>.<lambda>.<locals>.<lambda> at 0x145c1b3d9240>, {'10000': ['UniformGrid', 'UniformRandom', 'HessSampling'], '1000': ['UniformGrid', 'UniformRandom', 'HessSampling'], '100': ['UniformGrid', 'UniformRandom', 'HessSampling'], '100000': ['UniformRandom']})\n",
      "\n",
      "f Michi dim 6 N 100000\n",
      "['UniformRandom']\n",
      "\n",
      "f Michi dim 1\n",
      "defaultdict(<function make_tree.<locals>.<lambda>.<locals>.<lambda>.<locals>.<lambda> at 0x145c1b3d92d0>, {'10000': ['UniformGrid', 'UniformRandom', 'HessSampling'], '1000': ['UniformGrid', 'UniformRandom', 'HessSampling'], '100': ['UniformGrid', 'UniformRandom', 'HessSampling'], '100000': ['UniformGrid', 'UniformRandom', 'HessSampling']})\n",
      "\n",
      "f Michi dim 4\n",
      "defaultdict(<function make_tree.<locals>.<lambda>.<locals>.<lambda>.<locals>.<lambda> at 0x145c1b3d9360>, {'10000': ['UniformGrid', 'UniformRandom', 'HessSampling'], '1000': ['UniformGrid', 'UniformRandom', 'HessSampling'], '100': ['UniformGrid', 'UniformRandom', 'HessSampling'], '100000': ['UniformRandom']})\n",
      "\n",
      "f Michi dim 4 N 100000\n",
      "['UniformRandom']\n",
      "\n",
      "f Michi dim 2\n",
      "defaultdict(<function make_tree.<locals>.<lambda>.<locals>.<lambda>.<locals>.<lambda> at 0x145c1b3d93f0>, {'10000': ['UniformGrid', 'UniformRandom', 'HessSampling'], '1000': ['UniformGrid', 'UniformRandom', 'HessSampling'], '100': ['UniformGrid', 'UniformRandom', 'HessSampling'], '100000': ['UniformGrid', 'UniformRandom', 'HessSampling']})\n",
      "\n",
      "f Michi dim 10\n",
      "defaultdict(<function make_tree.<locals>.<lambda>.<locals>.<lambda>.<locals>.<lambda> at 0x145c1b3d9480>, {'10000': ['UniformGrid', 'UniformRandom', 'HessSampling'], '1000': ['UniformGrid', 'UniformRandom', 'HessSampling'], '100': ['UniformGrid', 'UniformRandom', 'HessSampling']})\n",
      "\n",
      "f Michi dim 3\n",
      "defaultdict(<function make_tree.<locals>.<lambda>.<locals>.<lambda>.<locals>.<lambda> at 0x145c1b3d9510>, {'10000': ['UniformGrid', 'UniformRandom', 'HessSampling'], '1000': ['UniformGrid', 'UniformRandom', 'HessSampling'], '100': ['UniformGrid', 'UniformRandom', 'HessSampling']})\n",
      "\n",
      "f Rosenbrock dim 8\n",
      "defaultdict(<function make_tree.<locals>.<lambda>.<locals>.<lambda>.<locals>.<lambda> at 0x145c1b3d9ab0>, {'10000': ['UniformGrid', 'UniformRandom', 'HessSampling'], '1000': ['UniformGrid', 'UniformRandom', 'HessSampling'], '100': ['UniformGrid', 'UniformRandom', 'HessSampling'], '100000': ['UniformGrid', 'UniformRandom', 'HessSampling']})\n",
      "\n",
      "f Rosenbrock dim 6\n",
      "defaultdict(<function make_tree.<locals>.<lambda>.<locals>.<lambda>.<locals>.<lambda> at 0x145c1b3d9b40>, {'10000': ['UniformGrid', 'UniformRandom', 'HessSampling'], '1000': ['UniformGrid', 'UniformRandom', 'HessSampling'], '100': ['UniformGrid', 'UniformRandom', 'HessSampling'], '100000': ['UniformGrid', 'UniformRandom', 'HessSampling']})\n",
      "\n",
      "f Rosenbrock dim 1\n",
      "defaultdict(<function make_tree.<locals>.<lambda>.<locals>.<lambda>.<locals>.<lambda> at 0x145c1b3d9bd0>, {'10000': ['UniformGrid', 'UniformRandom', 'HessSampling'], '1000': ['UniformGrid', 'UniformRandom', 'HessSampling'], '100': ['UniformGrid', 'UniformRandom', 'HessSampling'], '100000': ['UniformRandom']})\n",
      "\n",
      "f Rosenbrock dim 1 N 100000\n",
      "['UniformRandom']\n",
      "\n",
      "f Rosenbrock dim 4\n",
      "defaultdict(<function make_tree.<locals>.<lambda>.<locals>.<lambda>.<locals>.<lambda> at 0x145c1b3d9c60>, {'10000': ['UniformGrid', 'UniformRandom', 'HessSampling'], '1000': ['UniformGrid', 'UniformRandom', 'HessSampling'], '100': ['UniformGrid', 'UniformRandom', 'HessSampling'], '100000': ['UniformGrid', 'UniformRandom', 'HessSampling']})\n",
      "\n",
      "f Rosenbrock dim 2\n",
      "defaultdict(<function make_tree.<locals>.<lambda>.<locals>.<lambda>.<locals>.<lambda> at 0x145c1b3d9cf0>, {'10000': ['UniformGrid', 'UniformRandom', 'HessSampling'], '1000': ['UniformGrid', 'UniformRandom', 'HessSampling'], '100': ['UniformGrid', 'UniformRandom', 'HessSampling'], '100000': ['UniformGrid', 'UniformRandom', 'HessSampling']})\n",
      "\n",
      "f Rosenbrock dim 10\n",
      "defaultdict(<function make_tree.<locals>.<lambda>.<locals>.<lambda>.<locals>.<lambda> at 0x145c1b3d9d80>, {'10000': ['UniformGrid', 'UniformRandom', 'HessSampling'], '1000': ['UniformGrid', 'UniformRandom', 'HessSampling'], '100': ['UniformGrid', 'UniformRandom', 'HessSampling'], '100000': ['UniformGrid', 'UniformRandom', 'HessSampling']})\n",
      "\n",
      "f Rosenbrock dim 3\n",
      "defaultdict(<function make_tree.<locals>.<lambda>.<locals>.<lambda>.<locals>.<lambda> at 0x145c1b3d9e10>, {'10000': ['UniformGrid', 'UniformRandom', 'HessSampling'], '1000': ['UniformGrid', 'UniformRandom', 'HessSampling'], '100': ['UniformGrid', 'UniformRandom', 'HessSampling']})\n",
      "\n"
     ]
    }
   ],
   "source": [
    "for f in t:\n",
    "    for dim in t[f]:\n",
    "        if len(t[f][dim]) != 5:\n",
    "            print(\"f {} dim {}\".format(f, dim))\n",
    "            print(t[f][dim])\n",
    "            print()\n",
    "        for N in t[f][dim]:\n",
    "            if len(t[f][dim][N]) != 3:\n",
    "                print(\"f {} dim {} N {}\".format(f, dim, N))\n",
    "                print(t[f][dim][N])\n",
    "                print()"
   ]
  },
  {
   "cell_type": "markdown",
   "metadata": {},
   "source": [
    "# schwefel stuff"
   ]
  },
  {
   "cell_type": "code",
   "execution_count": null,
   "metadata": {},
   "outputs": [],
   "source": [
    "def normalize(X_data, y_data):\n",
    "    x_max, x_min = np.max(X_data), np.min(X_data)\n",
    "    y_max, y_min = np.max(y_data), np.min(y_data)\n",
    "\n",
    "    X_data = (X_data - (x_max + x_min)/2.) * 5. / ((x_max - x_min)/2.)\n",
    "    y_data = (y_data - (y_max + y_min)/2.) * 5. / ((y_max - y_min)/2.)\n",
    "\n",
    "    return X_data, y_data"
   ]
  },
  {
   "cell_type": "code",
   "execution_count": 63,
   "metadata": {},
   "outputs": [
    {
     "name": "stderr",
     "output_type": "stream",
     "text": [
      "  5%|▌         | 10/200 [00:00<00:01, 95.26it/s]"
     ]
    },
    {
     "name": "stdout",
     "output_type": "stream",
     "text": [
      "200\n"
     ]
    },
    {
     "name": "stderr",
     "output_type": "stream",
     "text": [
      " 48%|████▊     | 97/200 [00:01<00:01, 85.51it/s]\n"
     ]
    }
   ],
   "source": [
    "func_name = \"Schwefel\"\n",
    "dim = 8\n",
    "N = 100 # int(1e6)\n",
    "\n",
    "\n",
    "\n",
    "# net = load_model(model_dir_path / func_name / dim / N / data_gen_method / nn_type / \"model.pt\")\n",
    "\n",
    "\n",
    "\n",
    "num_steps = 1e4\n",
    "\n",
    "X_data, y_data = load_fast(\"Schwefel\", dim, N, \"UniformGrid\")\n",
    "X_data, y_data = normalize(X_data, y_data)\n",
    "\n",
    "\n",
    "inp_dim=dim\n",
    "eps = 5e-3\n",
    "width = 128\n",
    "num_layers = 4\n",
    "optimizer_name = \"SGD\"\n",
    "lr = 1e-2\n",
    "weight_decay = 0.001\n",
    "batch_size = 16\n",
    "num_epochs = int(1. * num_steps / (N / batch_size))\n",
    "num_epochs = max(num_epochs, 5) # want to see every data point at least 5-times\n",
    "num_epochs = min(num_epochs, 200) # no more than 200 epochs\n",
    "\n",
    "print(num_epochs)\n",
    "\n",
    "net, loss_hist = train(inp_dim, None, X_data, y_data, num_epochs, eps, width, num_layers, optimizer_name, lr, batch_size, weight_decay, momentum=0, verbose=True)\n",
    "\n",
    "# save_nn(net, loss_hist, \"Schwefel\", dim, N, \"HessSampling\", num_layers, width, \"SGD\", lr, batch_size, weight_decay, momentum=0)"
   ]
  },
  {
   "cell_type": "code",
   "execution_count": 64,
   "metadata": {},
   "outputs": [
    {
     "data": {
      "image/png": "[encoded data removed]",
      "text/plain": [
       "<Figure size 640x480 with 1 Axes>"
      ]
     },
     "metadata": {},
     "output_type": "display_data"
    }
   ],
   "source": [
    "\n",
    "plt.plot([float(l) for l in loss_hist])\n",
    "plt.yscale(\"log\")"
   ]
  },
  {
   "cell_type": "code",
   "execution_count": 151,
   "metadata": {},
   "outputs": [],
   "source": [
    "from Functions import Schwefel\n",
    "import numpy as np\n",
    "\n",
    "                N_int = int(N.split(\"_\")[1])\n",
    "                dim_int = int(dim.split(\"_\")[1])\n",
    "                X_data, y_data = load_fast(func_name, dim_int, N_int, data_gen_method)\n",
    "                X_data = Tensor(X_data)\n",
    "                y_data = Tensor(y_data).unsqueeze(1)\n",
    "                \n",
    "                X_data = X_data.type(torch.float32)\n",
    "                y_data = y_data.type(torch.float32)"
   ]
  },
  {
   "cell_type": "code",
   "execution_count": null,
   "metadata": {},
   "outputs": [],
   "source": [
    "X_test = np.random.uniform(low=-5, high=5, size=(1000, dim))\n",
    "y_test = F.f(X_test) / \n",
    "\n",
    "nn_out = net(Tensor(X_test.reshape(-1, 1)))\n",
    "\n",
    "np.linalg.norm(y_test - nn_out.detach().numpy())"
   ]
  },
  {
   "cell_type": "code",
   "execution_count": 129,
   "metadata": {},
   "outputs": [
    {
     "data": {
      "text/plain": [
       "2699.346"
      ]
     },
     "execution_count": 129,
     "metadata": {},
     "output_type": "execute_result"
    }
   ],
   "source": [
    "X_test = np.random.uniform(low=-5, high=5, size=(1000, dim))\n",
    "y_test = (F.f(X_test*100) - 400)/100\n",
    "\n",
    "nn_out = net(Tensor(X_test.reshape(-1, 1)))\n",
    "\n",
    "np.linalg.norm(y_test - nn_out.detach().numpy())"
   ]
  },
  {
   "cell_type": "code",
   "execution_count": 114,
   "metadata": {},
   "outputs": [],
   "source": [
    "Xs = Xs / 50\n",
    "net_out = net(Tensor(Xs.reshape(-1, 1)))"
   ]
  },
  {
   "cell_type": "code",
   "execution_count": 115,
   "metadata": {},
   "outputs": [
    {
     "data": {
      "text/plain": [
       "<matplotlib.collections.PathCollection at 0x152cb6481780>"
      ]
     },
     "execution_count": 115,
     "metadata": {},
     "output_type": "execute_result"
    },
    {
     "data": {
      "image/png": "[encoded data removed]",
      "text/plain": [
       "<Figure size 640x480 with 1 Axes>"
      ]
     },
     "metadata": {},
     "output_type": "display_data"
    }
   ],
   "source": [
    "plt.scatter(Xs, [float(o) for o in net_out])"
   ]
  },
  {
   "cell_type": "code",
   "execution_count": 113,
   "metadata": {},
   "outputs": [
    {
     "data": {
      "text/plain": [
       "[<matplotlib.lines.Line2D at 0x152cb642bfa0>]"
      ]
     },
     "execution_count": 113,
     "metadata": {},
     "output_type": "execute_result"
    },
    {
     "data": {
      "image/png": "[encoded data removed]",
      "text/plain": [
       "<Figure size 640x480 with 1 Axes>"
      ]
     },
     "metadata": {},
     "output_type": "display_data"
    }
   ],
   "source": [
    "F = Schwefel()\n",
    "\n",
    "Xs = np.linspace(F.bounds[0][0], F.bounds[0][1], 1000)\n",
    "ys = F.f(Xs.reshape(-1, 1))\n",
    "plt.plot(Xs, ys)"
   ]
  },
  {
   "cell_type": "code",
   "execution_count": 40,
   "metadata": {},
   "outputs": [
    {
     "data": {
      "text/plain": [
       "<matplotlib.collections.PathCollection at 0x1539301da8f0>"
      ]
     },
     "execution_count": 40,
     "metadata": {},
     "output_type": "execute_result"
    },
    {
     "data": {
      "image/png": "[encoded data removed]",
      "text/plain": [
       "<Figure size 640x480 with 1 Axes>"
      ]
     },
     "metadata": {},
     "output_type": "display_data"
    }
   ],
   "source": [
    "plt.scatter(X_data, y_data)"
   ]
  }
 ],
 "metadata": {
  "kernelspec": {
   "display_name": "Python [conda env:interp]",
   "language": "python",
   "name": "conda-env-interp-py"
  },
  "language_info": {
   "codemirror_mode": {
    "name": "ipython",
    "version": 3
   },
   "file_extension": ".py",
   "mimetype": "text/x-python",
   "name": "python",
   "nbconvert_exporter": "python",
   "pygments_lexer": "ipython3",
   "version": "3.10.4"
  }
 },
 "nbformat": 4,
 "nbformat_minor": 4
}
