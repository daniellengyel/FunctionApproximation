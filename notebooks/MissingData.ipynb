{
 "cells": [
  {
   "cell_type": "code",
   "execution_count": 3,
   "metadata": {},
   "outputs": [],
   "source": [
    "import os, sys \n",
    "import numpy as np\n",
    "from pathlib import Path \n",
    "HOME = \"/rds/general/user/dl2119/home/ICLR_Interp\" # Path(os.environ[\"PATH_INTP_FOLDER\"])\n",
    "os.environ[\"PATH_INTP_FOLDER\"] = HOME\n",
    "\n",
    "import jax.numpy as jnp\n",
    "import jax.random as jrandom\n",
    "import numpy as np\n",
    "\n",
    "sys.path.append(HOME + \"/\")\n",
    "sys.path.append(HOME + \"/DataGeneration\")\n",
    "sys.path.append(HOME + \"/DataGeneration/CurvSampling\")\n",
    "\n",
    "from DataGen import get_uniform\n",
    "\n",
    "%load_ext autoreload\n",
    "%autoreload 2"
   ]
  },
  {
   "cell_type": "code",
   "execution_count": 9,
   "metadata": {},
   "outputs": [
    {
     "name": "stdout",
     "output_type": "stream",
     "text": [
      "f Schwefel\n",
      "dim 1\n",
      "f Ackley\n",
      "dim 1\n",
      "f Michi\n",
      "dim 1\n",
      "f Rosenbrock\n"
     ]
    }
   ],
   "source": [
    "funcs = [\"Schwefel\", \"Ackley\", \"Michi\", \"Rosenbrock\"]\n",
    "dims = [1]\n",
    "Ns = [1e6]\n",
    "\n",
    "get_uniform(funcs, dims, Ns, seed=0)"
   ]
  },
  {
   "cell_type": "code",
   "execution_count": null,
   "metadata": {},
   "outputs": [],
   "source": []
  }
 ],
 "metadata": {
  "kernelspec": {
   "display_name": "Python [conda env:interp]",
   "language": "python",
   "name": "conda-env-interp-py"
  },
  "language_info": {
   "codemirror_mode": {
    "name": "ipython",
    "version": 3
   },
   "file_extension": ".py",
   "mimetype": "text/x-python",
   "name": "python",
   "nbconvert_exporter": "python",
   "pygments_lexer": "ipython3",
   "version": "3.10.4"
  }
 },
 "nbformat": 4,
 "nbformat_minor": 2
}
